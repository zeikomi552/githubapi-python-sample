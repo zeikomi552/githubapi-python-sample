{
 "metadata": {
  "language_info": {
   "codemirror_mode": {
    "name": "ipython",
    "version": 3
   },
   "file_extension": ".py",
   "mimetype": "text/x-python",
   "name": "python",
   "nbconvert_exporter": "python",
   "pygments_lexer": "ipython3",
   "version": "3.8.3-final"
  },
  "orig_nbformat": 2,
  "kernelspec": {
   "name": "python3",
   "display_name": "Python 3"
  }
 },
 "nbformat": 4,
 "nbformat_minor": 2,
 "cells": [
  {
   "cell_type": "markdown",
   "metadata": {},
   "source": [
    "# GitHub API REST v3 -> VSCodeの開発言語情報の取得\n",
    "\n",
    "## 使い方\n",
    "- とりあえず一回実行します。\n",
    "- config\\setting.cnfが出来上がります。\n",
    "    - ユーザー名とパスワード(GitHubのアカウント)をsetting.cnfに記述します。\n",
    "    - ユーザー名とパスワードは記述しなくても良いですが、1時間にX回しかアクセスできないという制限があります\n",
    "- リポジトリを指定します\n",
    "- 実行\n",
    "\n",
    "## リポジトリの確認と指定方法\n",
    "例えば以下の条件で調べると, microsoft/vscodeと出てきます。\n",
    "- microsoft -> owner\n",
    "- vscode -> repo\n",
    "\n",
    "https://github.com/search?q=vscode "
   ]
  },
  {
   "cell_type": "code",
   "execution_count": 1,
   "metadata": {
    "tags": []
   },
   "outputs": [
    {
     "output_type": "stream",
     "name": "stdout",
     "text": "[owner]microsoft [repo]vscodeについて出力します。\n"
    }
   ],
   "source": [
    "# input values\n",
    "owner = \"microsoft\"\n",
    "repo = \"vscode\"\n",
    "\n",
    "print(\"[owner]{0} [repo]{1}について出力します。\".format(owner, repo))\n"
   ]
  },
  {
   "cell_type": "markdown",
   "metadata": {},
   "source": [
    "## ライブラリインポート"
   ]
  },
  {
   "cell_type": "code",
   "execution_count": 2,
   "metadata": {},
   "outputs": [],
   "source": [
    "# Libraries\n",
    "import requests\n",
    "import json\n",
    "import pprint\n",
    "import pandas as pd\n",
    "\n",
    "## original Libraries\n",
    "import config_manager as cnf\n",
    "import github_api.github_api_manager as gapi"
   ]
  },
  {
   "cell_type": "markdown",
   "metadata": {},
   "source": []
  },
  {
   "cell_type": "code",
   "execution_count": 3,
   "metadata": {
    "tags": []
   },
   "outputs": [],
   "source": [
    "# load config file\n",
    "cnf_data = cnf.confg_manager()\n",
    "cnf_data.load()\n",
    "username, userpassword = cnf_data.get_userparam()\n",
    "\n",
    "# create github api object\n",
    "gapi_ctrl = gapi.github_api_manager(username, userpassword)"
   ]
  },
  {
   "cell_type": "markdown",
   "metadata": {},
   "source": [
    "## リポジトリの基本的な情報を取得します。"
   ]
  },
  {
   "cell_type": "code",
   "execution_count": 4,
   "metadata": {
    "tags": []
   },
   "outputs": [
    {
     "output_type": "stream",
     "name": "stdout",
     "text": "GET https://api.github.com/repos/microsoft/vscode\n\n== Repository Information ==\n\n"
    },
    {
     "output_type": "execute_result",
     "data": {
      "text/plain": "                 key               value\n0               name              vscode\n1          full_name    microsoft/vscode\n2        description  Visual Studio Code\n3               size              296683\n4   stargazers_count              101286\n5     watchers_count              101286\n6        forks_count               15967\n7  open_issues_count                5440\n8      network_count               15967\n9  subscribers_count                2949",
      "text/html": "<div>\n<style scoped>\n    .dataframe tbody tr th:only-of-type {\n        vertical-align: middle;\n    }\n\n    .dataframe tbody tr th {\n        vertical-align: top;\n    }\n\n    .dataframe thead th {\n        text-align: right;\n    }\n</style>\n<table border=\"1\" class=\"dataframe\">\n  <thead>\n    <tr style=\"text-align: right;\">\n      <th></th>\n      <th>key</th>\n      <th>value</th>\n    </tr>\n  </thead>\n  <tbody>\n    <tr>\n      <th>0</th>\n      <td>name</td>\n      <td>vscode</td>\n    </tr>\n    <tr>\n      <th>1</th>\n      <td>full_name</td>\n      <td>microsoft/vscode</td>\n    </tr>\n    <tr>\n      <th>2</th>\n      <td>description</td>\n      <td>Visual Studio Code</td>\n    </tr>\n    <tr>\n      <th>3</th>\n      <td>size</td>\n      <td>296683</td>\n    </tr>\n    <tr>\n      <th>4</th>\n      <td>stargazers_count</td>\n      <td>101286</td>\n    </tr>\n    <tr>\n      <th>5</th>\n      <td>watchers_count</td>\n      <td>101286</td>\n    </tr>\n    <tr>\n      <th>6</th>\n      <td>forks_count</td>\n      <td>15967</td>\n    </tr>\n    <tr>\n      <th>7</th>\n      <td>open_issues_count</td>\n      <td>5440</td>\n    </tr>\n    <tr>\n      <th>8</th>\n      <td>network_count</td>\n      <td>15967</td>\n    </tr>\n    <tr>\n      <th>9</th>\n      <td>subscribers_count</td>\n      <td>2949</td>\n    </tr>\n  </tbody>\n</table>\n</div>"
     },
     "metadata": {},
     "execution_count": 4
    }
   ],
   "source": [
    "# create repository api\n",
    "github_api = \"/repos/{owner}/{repo}\".replace(\"{owner}\", owner).replace(\"{repo}\", repo)\n",
    "ret_json = gapi_ctrl.get_json(github_api)\n",
    "\n",
    "# select keys\n",
    "check_list = [\"name\",\"full_name\",\"description\", \"size\", \"stargazers_count\", \"watchers_count\",\"forks_count\",\"open_issues_count\",\"network_count\",\"subscribers_count\"]\n",
    "\n",
    "\n",
    "# convert dataframe\n",
    "d1={}\n",
    "for k in check_list:\n",
    "    d1[k]=pd.Series(ret_json[k])\n",
    "\n",
    "df1=pd.DataFrame(d1)\n",
    "\n",
    "df1 = df1.T.reset_index().rename(columns={'index': 'key', 0 : 'value'})\n",
    "\n",
    "# output\n",
    "print(\"\\n== Repository Information ==\\n\")\n",
    "df1.head(20)"
   ]
  },
  {
   "cell_type": "markdown",
   "metadata": {},
   "source": [
    "# リポジトリの言語情報を取得します\n",
    "色々と便利なのでDataFrameに変換しています。\n",
    "言語とバイト数が返ってきます"
   ]
  },
  {
   "cell_type": "code",
   "execution_count": 5,
   "metadata": {
    "tags": []
   },
   "outputs": [
    {
     "output_type": "stream",
     "name": "stdout",
     "text": "GET https://api.github.com/repos/microsoft/vscode/languages\n\n== Repository Languages ==\n\n"
    },
    {
     "output_type": "execute_result",
     "data": {
      "text/plain": "             language  number of bytes of code\n0          TypeScript                 30071784\n1          JavaScript                  1121318\n2                 CSS                   474678\n3          Inno Setup                   250395\n4                HTML                   175131\n5               Shell                    33922\n6           Batchfile                     8943\n7          PowerShell                     6190\n8          Dockerfile                     4631\n9              Groovy                     3928\n10                C++                     3251\n11             Python                     2405\n12           Makefile                     2162\n13               Ruby                     1703\n14      Objective-C++                     1387\n15        Objective-C                     1387\n16            Clojure                     1206\n17               Raku                     1065\n18                PHP                      998\n19  Visual Basic .NET                      893\n20               Perl                      857\n21                  C                      818\n22                 Go                      652\n23                 F#                      634\n24               Java                      599\n25       CoffeeScript                      590\n26               Rust                      532\n27                 C#                      488\n28                  R                      362\n29               Roff                      351\n30          ShaderLab                      330\n31              Swift                      284\n32                Lua                      252\n33               HLSL                      184\n34               Hack                       16",
      "text/html": "<div>\n<style scoped>\n    .dataframe tbody tr th:only-of-type {\n        vertical-align: middle;\n    }\n\n    .dataframe tbody tr th {\n        vertical-align: top;\n    }\n\n    .dataframe thead th {\n        text-align: right;\n    }\n</style>\n<table border=\"1\" class=\"dataframe\">\n  <thead>\n    <tr style=\"text-align: right;\">\n      <th></th>\n      <th>language</th>\n      <th>number of bytes of code</th>\n    </tr>\n  </thead>\n  <tbody>\n    <tr>\n      <th>0</th>\n      <td>TypeScript</td>\n      <td>30071784</td>\n    </tr>\n    <tr>\n      <th>1</th>\n      <td>JavaScript</td>\n      <td>1121318</td>\n    </tr>\n    <tr>\n      <th>2</th>\n      <td>CSS</td>\n      <td>474678</td>\n    </tr>\n    <tr>\n      <th>3</th>\n      <td>Inno Setup</td>\n      <td>250395</td>\n    </tr>\n    <tr>\n      <th>4</th>\n      <td>HTML</td>\n      <td>175131</td>\n    </tr>\n    <tr>\n      <th>5</th>\n      <td>Shell</td>\n      <td>33922</td>\n    </tr>\n    <tr>\n      <th>6</th>\n      <td>Batchfile</td>\n      <td>8943</td>\n    </tr>\n    <tr>\n      <th>7</th>\n      <td>PowerShell</td>\n      <td>6190</td>\n    </tr>\n    <tr>\n      <th>8</th>\n      <td>Dockerfile</td>\n      <td>4631</td>\n    </tr>\n    <tr>\n      <th>9</th>\n      <td>Groovy</td>\n      <td>3928</td>\n    </tr>\n    <tr>\n      <th>10</th>\n      <td>C++</td>\n      <td>3251</td>\n    </tr>\n    <tr>\n      <th>11</th>\n      <td>Python</td>\n      <td>2405</td>\n    </tr>\n    <tr>\n      <th>12</th>\n      <td>Makefile</td>\n      <td>2162</td>\n    </tr>\n    <tr>\n      <th>13</th>\n      <td>Ruby</td>\n      <td>1703</td>\n    </tr>\n    <tr>\n      <th>14</th>\n      <td>Objective-C++</td>\n      <td>1387</td>\n    </tr>\n    <tr>\n      <th>15</th>\n      <td>Objective-C</td>\n      <td>1387</td>\n    </tr>\n    <tr>\n      <th>16</th>\n      <td>Clojure</td>\n      <td>1206</td>\n    </tr>\n    <tr>\n      <th>17</th>\n      <td>Raku</td>\n      <td>1065</td>\n    </tr>\n    <tr>\n      <th>18</th>\n      <td>PHP</td>\n      <td>998</td>\n    </tr>\n    <tr>\n      <th>19</th>\n      <td>Visual Basic .NET</td>\n      <td>893</td>\n    </tr>\n    <tr>\n      <th>20</th>\n      <td>Perl</td>\n      <td>857</td>\n    </tr>\n    <tr>\n      <th>21</th>\n      <td>C</td>\n      <td>818</td>\n    </tr>\n    <tr>\n      <th>22</th>\n      <td>Go</td>\n      <td>652</td>\n    </tr>\n    <tr>\n      <th>23</th>\n      <td>F#</td>\n      <td>634</td>\n    </tr>\n    <tr>\n      <th>24</th>\n      <td>Java</td>\n      <td>599</td>\n    </tr>\n    <tr>\n      <th>25</th>\n      <td>CoffeeScript</td>\n      <td>590</td>\n    </tr>\n    <tr>\n      <th>26</th>\n      <td>Rust</td>\n      <td>532</td>\n    </tr>\n    <tr>\n      <th>27</th>\n      <td>C#</td>\n      <td>488</td>\n    </tr>\n    <tr>\n      <th>28</th>\n      <td>R</td>\n      <td>362</td>\n    </tr>\n    <tr>\n      <th>29</th>\n      <td>Roff</td>\n      <td>351</td>\n    </tr>\n    <tr>\n      <th>30</th>\n      <td>ShaderLab</td>\n      <td>330</td>\n    </tr>\n    <tr>\n      <th>31</th>\n      <td>Swift</td>\n      <td>284</td>\n    </tr>\n    <tr>\n      <th>32</th>\n      <td>Lua</td>\n      <td>252</td>\n    </tr>\n    <tr>\n      <th>33</th>\n      <td>HLSL</td>\n      <td>184</td>\n    </tr>\n    <tr>\n      <th>34</th>\n      <td>Hack</td>\n      <td>16</td>\n    </tr>\n  </tbody>\n</table>\n</div>"
     },
     "metadata": {},
     "execution_count": 5
    }
   ],
   "source": [
    "github_api = \"/repos/{owner}/{repo}/languages\".replace(\"{owner}\", owner).replace(\"{repo}\", repo)\n",
    "ret_json = gapi_ctrl.get_json(github_api)\n",
    "\n",
    "d2={}\n",
    "for k,v in ret_json.items():\n",
    "    d2[k]=pd.Series(v)\n",
    "\n",
    "df2=pd.DataFrame(d2)\n",
    "df2 = df2.T.reset_index().rename(columns={'index': 'language', 0 : 'number of bytes of code'})\n",
    "\n",
    "# output\n",
    "print(\"\\n== Repository Languages ==\\n\")\n",
    "df2.head(100)"
   ]
  },
  {
   "cell_type": "markdown",
   "metadata": {},
   "source": [
    "# CSV出力しておきます。"
   ]
  },
  {
   "cell_type": "code",
   "execution_count": 6,
   "metadata": {},
   "outputs": [],
   "source": [
    "df2.to_csv(\"{0}-{1}-languages.csv\".format(owner,repo))"
   ]
  },
  {
   "cell_type": "code",
   "execution_count": null,
   "metadata": {},
   "outputs": [],
   "source": []
  }
 ]
}