{
 "metadata": {
  "language_info": {
   "codemirror_mode": {
    "name": "ipython",
    "version": 3
   },
   "file_extension": ".py",
   "mimetype": "text/x-python",
   "name": "python",
   "nbconvert_exporter": "python",
   "pygments_lexer": "ipython3",
   "version": "3.8.3-final"
  },
  "orig_nbformat": 2,
  "kernelspec": {
   "name": "python3",
   "display_name": "Python 3"
  }
 },
 "nbformat": 4,
 "nbformat_minor": 2,
 "cells": [
  {
   "cell_type": "markdown",
   "metadata": {},
   "source": [
    "# GitHub API REST v3 -> VSCodeの開発言語情報の取得\n",
    "\n",
    "## 使い方\n",
    "- とりあえず一回実行します。\n",
    "- config\\setting.cnfが出来上がります。\n",
    "    - ユーザー名とパスワード(GitHubのアカウント)をsetting.cnfに記述します。\n",
    "    - ユーザー名とパスワードは記述しなくても良いですが、1時間にX回しかアクセスできないという制限があります\n",
    "- リポジトリを指定します\n",
    "- 実行\n",
    "\n",
    "## リポジトリの確認と指定方法\n",
    "例えば以下の条件で調べると, microsoft/vscodeと出てきます。\n",
    "- microsoft -> owner\n",
    "- vscode -> repo\n",
    "\n",
    "https://github.com/search?q=vscode "
   ]
  },
  {
   "cell_type": "code",
   "execution_count": 7,
   "metadata": {
    "tags": []
   },
   "outputs": [
    {
     "output_type": "stream",
     "name": "stdout",
     "text": "[owner]atom [repo]atomについて出力します。\n"
    }
   ],
   "source": [
    "# input values\n",
    "owner = \"microsoft\"\n",
    "repo = \"vscode\"\n",
    "\n",
    "print(\"[owner]{0} [repo]{1}について出力します。\".format(owner, repo))\n"
   ]
  },
  {
   "cell_type": "markdown",
   "metadata": {},
   "source": [
    "## ライブラリインポート"
   ]
  },
  {
   "cell_type": "code",
   "execution_count": 8,
   "metadata": {},
   "outputs": [],
   "source": [
    "# Libraries\n",
    "import requests\n",
    "import json\n",
    "import pprint\n",
    "import pandas as pd\n",
    "\n",
    "## original Libraries\n",
    "import config_manager as cnf\n",
    "import github_api.github_api_manager as gapi"
   ]
  },
  {
   "cell_type": "markdown",
   "metadata": {},
   "source": []
  },
  {
   "cell_type": "code",
   "execution_count": 9,
   "metadata": {
    "tags": []
   },
   "outputs": [],
   "source": [
    "# load config file\n",
    "cnf_data = cnf.confg_manager()\n",
    "cnf_data.load()\n",
    "username, userpassword = cnf_data.get_userparam()\n",
    "\n",
    "# create github api object\n",
    "gapi_ctrl = gapi.github_api_manager(username, userpassword)"
   ]
  },
  {
   "cell_type": "markdown",
   "metadata": {},
   "source": [
    "## リポジトリの基本的な情報を取得します。"
   ]
  },
  {
   "cell_type": "code",
   "execution_count": 10,
   "metadata": {
    "tags": []
   },
   "outputs": [
    {
     "output_type": "stream",
     "name": "stdout",
     "text": "GET https://api.github.com/repos/atom/atom\n\n== Repository Information ==\n\n"
    },
    {
     "output_type": "execute_result",
     "data": {
      "text/plain": "                 key                            value\n0               name                             atom\n1          full_name                        atom/atom\n2        description  :atom: The hackable text editor\n3               size                           319076\n4   stargazers_count                            52690\n5     watchers_count                            52690\n6        forks_count                            14911\n7  open_issues_count                              879\n8      network_count                            14911\n9  subscribers_count                             2525",
      "text/html": "<div>\n<style scoped>\n    .dataframe tbody tr th:only-of-type {\n        vertical-align: middle;\n    }\n\n    .dataframe tbody tr th {\n        vertical-align: top;\n    }\n\n    .dataframe thead th {\n        text-align: right;\n    }\n</style>\n<table border=\"1\" class=\"dataframe\">\n  <thead>\n    <tr style=\"text-align: right;\">\n      <th></th>\n      <th>key</th>\n      <th>value</th>\n    </tr>\n  </thead>\n  <tbody>\n    <tr>\n      <th>0</th>\n      <td>name</td>\n      <td>atom</td>\n    </tr>\n    <tr>\n      <th>1</th>\n      <td>full_name</td>\n      <td>atom/atom</td>\n    </tr>\n    <tr>\n      <th>2</th>\n      <td>description</td>\n      <td>:atom: The hackable text editor</td>\n    </tr>\n    <tr>\n      <th>3</th>\n      <td>size</td>\n      <td>319076</td>\n    </tr>\n    <tr>\n      <th>4</th>\n      <td>stargazers_count</td>\n      <td>52690</td>\n    </tr>\n    <tr>\n      <th>5</th>\n      <td>watchers_count</td>\n      <td>52690</td>\n    </tr>\n    <tr>\n      <th>6</th>\n      <td>forks_count</td>\n      <td>14911</td>\n    </tr>\n    <tr>\n      <th>7</th>\n      <td>open_issues_count</td>\n      <td>879</td>\n    </tr>\n    <tr>\n      <th>8</th>\n      <td>network_count</td>\n      <td>14911</td>\n    </tr>\n    <tr>\n      <th>9</th>\n      <td>subscribers_count</td>\n      <td>2525</td>\n    </tr>\n  </tbody>\n</table>\n</div>"
     },
     "metadata": {},
     "execution_count": 10
    }
   ],
   "source": [
    "# create repository api\n",
    "github_api = \"/repos/{owner}/{repo}\".replace(\"{owner}\", owner).replace(\"{repo}\", repo)\n",
    "ret_json = gapi_ctrl.get_json(github_api)\n",
    "\n",
    "# select keys\n",
    "check_list = [\"name\",\"full_name\",\"description\", \"size\", \"stargazers_count\", \"watchers_count\",\"forks_count\",\"open_issues_count\",\"network_count\",\"subscribers_count\"]\n",
    "\n",
    "\n",
    "# convert dataframe\n",
    "d1={}\n",
    "for k in check_list:\n",
    "    d1[k]=pd.Series(ret_json[k])\n",
    "\n",
    "df1=pd.DataFrame(d1)\n",
    "\n",
    "df1 = df1.T.reset_index().rename(columns={'index': 'key', 0 : 'value'})\n",
    "\n",
    "# output\n",
    "print(\"\\n== Repository Information ==\\n\")\n",
    "df1.head(20)"
   ]
  },
  {
   "cell_type": "markdown",
   "metadata": {},
   "source": [
    "# リポジトリの言語情報を取得します\n",
    "色々と便利なのでDataFrameに変換しています。\n",
    "言語とバイト数が返ってきます"
   ]
  },
  {
   "cell_type": "code",
   "execution_count": 11,
   "metadata": {
    "tags": []
   },
   "outputs": [
    {
     "output_type": "stream",
     "name": "stdout",
     "text": "GET https://api.github.com/repos/atom/atom/languages\n\n== Repository Languages ==\n\n"
    },
    {
     "output_type": "execute_result",
     "data": {
      "text/plain": "       language  number of bytes of code\n0    JavaScript                  4347824\n1           CSS                   395100\n2  CoffeeScript                   244664\n3         Shell                     7418\n4     Batchfile                     2431\n5          HTML                      460\n6    Dockerfile                      354",
      "text/html": "<div>\n<style scoped>\n    .dataframe tbody tr th:only-of-type {\n        vertical-align: middle;\n    }\n\n    .dataframe tbody tr th {\n        vertical-align: top;\n    }\n\n    .dataframe thead th {\n        text-align: right;\n    }\n</style>\n<table border=\"1\" class=\"dataframe\">\n  <thead>\n    <tr style=\"text-align: right;\">\n      <th></th>\n      <th>language</th>\n      <th>number of bytes of code</th>\n    </tr>\n  </thead>\n  <tbody>\n    <tr>\n      <th>0</th>\n      <td>JavaScript</td>\n      <td>4347824</td>\n    </tr>\n    <tr>\n      <th>1</th>\n      <td>CSS</td>\n      <td>395100</td>\n    </tr>\n    <tr>\n      <th>2</th>\n      <td>CoffeeScript</td>\n      <td>244664</td>\n    </tr>\n    <tr>\n      <th>3</th>\n      <td>Shell</td>\n      <td>7418</td>\n    </tr>\n    <tr>\n      <th>4</th>\n      <td>Batchfile</td>\n      <td>2431</td>\n    </tr>\n    <tr>\n      <th>5</th>\n      <td>HTML</td>\n      <td>460</td>\n    </tr>\n    <tr>\n      <th>6</th>\n      <td>Dockerfile</td>\n      <td>354</td>\n    </tr>\n  </tbody>\n</table>\n</div>"
     },
     "metadata": {},
     "execution_count": 11
    }
   ],
   "source": [
    "github_api = \"/repos/{owner}/{repo}/languages\".replace(\"{owner}\", owner).replace(\"{repo}\", repo)\n",
    "ret_json = gapi_ctrl.get_json(github_api)\n",
    "\n",
    "d2={}\n",
    "for k,v in ret_json.items():\n",
    "    d2[k]=pd.Series(v)\n",
    "\n",
    "df2=pd.DataFrame(d2)\n",
    "df2 = df2.T.reset_index().rename(columns={'index': 'language', 0 : 'number of bytes of code'})\n",
    "\n",
    "# output\n",
    "print(\"\\n== Repository Languages ==\\n\")\n",
    "df2.head(100)"
   ]
  },
  {
   "cell_type": "code",
   "execution_count": 12,
   "metadata": {},
   "outputs": [],
   "source": [
    "df2.to_csv(\"vscode-languages.csv\")"
   ]
  },
  {
   "cell_type": "code",
   "execution_count": null,
   "metadata": {},
   "outputs": [],
   "source": []
  }
 ]
}