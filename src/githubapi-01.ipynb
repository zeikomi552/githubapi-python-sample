{
 "metadata": {
  "language_info": {
   "codemirror_mode": {
    "name": "ipython",
    "version": 3
   },
   "file_extension": ".py",
   "mimetype": "text/x-python",
   "name": "python",
   "nbconvert_exporter": "python",
   "pygments_lexer": "ipython3",
   "version": "3.8.3-final"
  },
  "orig_nbformat": 2,
  "kernelspec": {
   "name": "python3",
   "display_name": "Python 3"
  }
 },
 "nbformat": 4,
 "nbformat_minor": 2,
 "cells": [
  {
   "cell_type": "code",
   "execution_count": 18,
   "metadata": {},
   "outputs": [],
   "source": [
    "# Libraries\n",
    "import requests\n",
    "import json\n",
    "import pandas as pd\n",
    "import pprint\n",
    "import os\n",
    "import re\n",
    "import config_manager as cnf\n",
    "import github_api.github_api_manager as gapi\n"
   ]
  },
  {
   "cell_type": "code",
   "execution_count": 19,
   "metadata": {
    "tags": []
   },
   "outputs": [
    {
     "output_type": "stream",
     "name": "stdout",
     "text": "入力値:microsoft vscode\n"
    }
   ],
   "source": [
    "\n",
    "# 入力値\n",
    "owner = \"microsoft\"\n",
    "repo = \"vscode\"\n",
    "\n",
    "print(\"入力値:{0} {1}\".format(owner, repo))"
   ]
  },
  {
   "cell_type": "code",
   "execution_count": 20,
   "metadata": {},
   "outputs": [],
   "source": [
    "# load config file\n",
    "cnf_data = cnf.confg_manager()\n",
    "cnf_data.load()\n",
    "username, userpassword = cnf_data.get_userparam()\n",
    "\n",
    "# create github api object\n",
    "gapi_ctrl = gapi.github_api_manager(username, userpassword)"
   ]
  },
  {
   "cell_type": "code",
   "execution_count": 21,
   "metadata": {
    "tags": []
   },
   "outputs": [
    {
     "output_type": "stream",
     "name": "stdout",
     "text": "GET https://api.github.com/repos/microsoft/vscode\n"
    }
   ],
   "source": [
    "github_api = \"/repos/{owner}/{repo}\".replace(\"{owner}\", owner).replace(\"{repo}\", repo)\n",
    "ret_json = gapi_ctrl.get_json(github_api)\n"
   ]
  },
  {
   "cell_type": "code",
   "execution_count": 24,
   "metadata": {
    "tags": []
   },
   "outputs": [
    {
     "output_type": "stream",
     "name": "stdout",
     "text": "== とりあえず出力したい情報の一覧 ==\n name : vscode\n full_name : microsoft/vscode\n description : Visual Studio Code\n size : 296617\n stargazers_count : 101268\n watchers_count : 101268\n forks_count : 15962\n open_issues_count : 5438\n network_count : 15962\n subscribers_count : 2950\n"
    }
   ],
   "source": [
    "\n",
    "check_list = [\"name\",\"full_name\",\"description\", \"size\", \"stargazers_count\", \"watchers_count\",\"forks_count\",\"open_issues_count\",\"network_count\",\"subscribers_count\"]\n",
    "\n",
    "print(\"== とりあえず出力したい情報の一覧 ==\")\n",
    "for k in check_list:\n",
    "    print(\" {0} : {1}\".format(k, str(ret_json[k])))\n"
   ]
  },
  {
   "cell_type": "code",
   "execution_count": 27,
   "metadata": {
    "tags": []
   },
   "outputs": [
    {
     "output_type": "stream",
     "name": "stdout",
     "text": "GET https://api.github.com/repos/microsoft/vscode/languages\n== 言語一覧 ==\n TypeScript : 30071907\n JavaScript : 1089542\n CSS : 474678\n Inno Setup : 250395\n HTML : 175131\n Shell : 33922\n Batchfile : 8943\n PowerShell : 6190\n Dockerfile : 4631\n Groovy : 3928\n C++ : 3251\n Python : 2405\n Makefile : 2162\n Ruby : 1703\n Objective-C++ : 1387\n Objective-C : 1387\n Clojure : 1206\n Raku : 1065\n PHP : 998\n Visual Basic .NET : 893\n Perl : 857\n C : 818\n Go : 652\n F# : 634\n Java : 599\n CoffeeScript : 590\n Rust : 532\n C# : 488\n R : 362\n Roff : 351\n ShaderLab : 330\n Swift : 284\n Lua : 252\n HLSL : 184\n Hack : 16\n"
    }
   ],
   "source": [
    "github_api = \"/repos/{owner}/{repo}/languages\".replace(\"{owner}\", owner).replace(\"{repo}\", repo)\n",
    "ret_json = gapi_ctrl.get_json(github_api)\n",
    "\n",
    "print(\"== 言語一覧 ==\")\n",
    "for k in ret_json:\n",
    "    print(\" {0} : {1}\".format(k, str(ret_json[k])))"
   ]
  },
  {
   "cell_type": "code",
   "execution_count": null,
   "metadata": {},
   "outputs": [],
   "source": [
    "github_api = \"/repos/{owner}/{repo}/contributors\".replace(\"{owner}\", owner).replace(\"{repo}\", repo)\n",
    "ret_json = gapi_ctrl.get_json(github_api)\n",
    "\n",
    "print(\"== 言語一覧 ==\")\n",
    "for k in ret_json:\n",
    "    print(\" {0} : {1}\".format(k, str(ret_json[k])))"
   ]
  }
 ]
}